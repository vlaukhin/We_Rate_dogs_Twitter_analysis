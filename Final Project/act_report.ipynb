{
 "cells": [
  {
   "cell_type": "markdown",
   "metadata": {},
   "source": [
    "### Act report \n",
    "\n",
    "Since, there was so many things to work on and the time was limitted, the following insights were picked up for analysis:\n",
    "- What is Descriptive stats for image prediction confidences?\n",
    "- What is the Most/least retweeted dog according to image predictions?\n",
    "- What is the Most/Least favorited dog according to image predictions?\n",
    "- What is the Most/Least real_rated dog according to image predictions?\n",
    "- What is the time frame of retweets, i.e. which year the most of them were created? How many  tweets were received per month?\n",
    "- What is the time frame of favorits, i.e. which year the most of them were created? How many  favorits were received per month?"
   ]
  },
  {
   "cell_type": "markdown",
   "metadata": {},
   "source": [
    "### What is Descriptive stats for image prediction confidences?"
   ]
  },
  {
   "cell_type": "markdown",
   "metadata": {},
   "source": [
    "At first I needed to check which algorithm probability gives the highest level, and the highest ratio of identified image to be dog(True) or not (False)\n",
    "This was achieved by subsetting all the p1-p3 confidence values from gathered and cleaned data and calculating corresponding values"
   ]
  },
  {
   "cell_type": "markdown",
   "metadata": {},
   "source": [
    "dog==True vs. dog==False ratio:\n",
    "- p1 algorithm had ratio of **2.83** \n",
    "- p2 algorithm had ratio of **2.97**\n",
    "- p3 algorithm had ratio of **2.60**"
   ]
  },
  {
   "cell_type": "markdown",
   "metadata": {},
   "source": [
    "![alt text](image_predictions\\prob_distr_images.png)"
   ]
  },
  {
   "cell_type": "markdown",
   "metadata": {},
   "source": [
    "From the analysis it could be seen that algorithm #1 gives the highest confidence level when performing image recognition, although it takes the second place after algorithm #2 in terms of relationship of identified images to be dog or not.\n",
    "\n",
    "After careful consideration, and since I don't have anough info and tools to confirm the algorithm is actually working, the decision was made to use data from algorithm 1 as a dog reference when performing subsequent analysis. \n",
    "\n",
    "Algorithm #1 stats are \n",
    "\n",
    "- count    2071.00\n",
    "- mean     6.029716e-02\n",
    "- std      5.091295e-02\n",
    "- min      1.740170e-10\n",
    "- 25%      1.619495e-02\n",
    "- 50%      4.944380e-02\n",
    "- 75%      9.180755e-02\n",
    "- max      2.734190e-01"
   ]
  },
  {
   "cell_type": "markdown",
   "metadata": {},
   "source": [
    "### What is the Most/least retweeted dog according to image predictions?"
   ]
  },
  {
   "cell_type": "markdown",
   "metadata": {},
   "source": [
    "It would be interesting to see what was the ultimate retweeted dog accross 3 years of the data and also what was the 'worst'. "
   ]
  },
  {
   "cell_type": "markdown",
   "metadata": {},
   "source": [
    "\n",
    "| type        | class           | Count  |\n",
    "| ------------- |:-------------:| -----:|\n",
    "| **p1_max**      | labrador_retriever | 77845 |\n",
    "| **p1_min**      | english_setter      |   13 |\n",
    "\n"
   ]
  },
  {
   "cell_type": "markdown",
   "metadata": {},
   "source": [
    "According to our data and picked algorithm(#1) labrador_retriever is the most retweeted dog, meanwhile english_setter is least."
   ]
  },
  {
   "cell_type": "markdown",
   "metadata": {},
   "source": [
    "### What is the Most/Least favorited dog according to image predictions?"
   ]
  },
  {
   "cell_type": "markdown",
   "metadata": {},
   "source": [
    "And what is the most favorited dog?"
   ]
  },
  {
   "cell_type": "markdown",
   "metadata": {},
   "source": [
    "\n",
    "| type        | class           | Count  |\n",
    "| ------------- |:-------------:| -----:|\n",
    "| **p1_max**      | labrador_retriever | 77845 |\n",
    "| **p1_min**     | afghan_hound      |   0 |\n",
    "|        | beagle      |   0 |\n",
    "|        | blenheim_spaniel      |   0 |\n",
    "|        | cardigan                        |   0 |\n",
    "|        | chihuahua                        |   0 |\n",
    "|        | chow                             |   0 |\n",
    "|        | cocker_spaniel                    |   0 |\n",
    "|        | dalmatian                        |   0 |\n",
    "|        | english_setter                   |   0 |\n",
    "|        | english_springer                 |   0 |\n",
    "|        | golden_retriever                |   0 |\n",
    "|        | irish_setter                     |   0 |\n",
    "|        | irish_terrier                    |   0 |\n",
    "|               | labrador_retriever                |   0 |\n",
    "|               |                lakeland_terrier                 |   0 |\n",
    "|               |                malamute                         |   0 |\n",
    "|               |               miniature_pinscher               |   0 |\n",
    "|               |                norwegian_elkhound                |   0 |\n",
    "|               |                papillon                         |   0 |\n",
    "|               |                pug                              |   0 |\n",
    "|               |                saint_bernard                    |   0 |\n",
    "|              |                samoyed                          |   0 |\n",
    "|               |                schipperke                        |   0 |\n",
    "|               |                staffordshire_bullterrier         |   0 |\n",
    "|              |                standard_poodle                   |   0 |\n",
    "|               |                tibetan_mastiff                   |   0 |\n",
    "| **p1_min**             |                toy_poodleenglish_setter      |   0 |"
   ]
  },
  {
   "cell_type": "markdown",
   "metadata": {},
   "source": [
    "Looks like we have labrador retriever as the most favorited dog among all, again :)). And also we have plenty of dogs that don't have any favorited count."
   ]
  },
  {
   "cell_type": "markdown",
   "metadata": {},
   "source": [
    "### What is the Most/Least real_rated dog according to image predictions?"
   ]
  },
  {
   "cell_type": "markdown",
   "metadata": {},
   "source": [
    "Also it would be great to see what is the best rated dog according to new 'real_rating' column that was calculated as rating_numerator/rating_denominator"
   ]
  },
  {
   "cell_type": "markdown",
   "metadata": {},
   "source": [
    "| type        | class           | Count  |\n",
    "| ------------- |:-------------:| -----:|\n",
    "| **p1_max**      | pomeranian | 7.5 |\n",
    "| **p1_min**      | great_dane      |   0.2 |\n",
    "|             | maltese_dog|   0.2 |\n"
   ]
  },
  {
   "cell_type": "markdown",
   "metadata": {},
   "source": [
    "So, according to our data pomeranian seems to be highly rated, meanwhile great_dane and maltese_dog are having the least ratings among dogs."
   ]
  },
  {
   "cell_type": "markdown",
   "metadata": {},
   "source": [
    "### What is the time frame of retweets, i.e. which year the most of them were created? How many  tweets were received per month?"
   ]
  },
  {
   "cell_type": "markdown",
   "metadata": {},
   "source": [
    "Our data has a frame starting from 2015-11 and ending 2017-08 and I was particulary interested in total numbers per each year and then per month to get the feeling of the whole data set."
   ]
  },
  {
   "cell_type": "markdown",
   "metadata": {},
   "source": [
    "![alt text](image_predictions\\retweet_per_year.png)"
   ]
  },
  {
   "cell_type": "markdown",
   "metadata": {},
   "source": [
    "Seems that 2016 had the highest amount of retweets among all 3 years. 2015 is showing least numbers since it was only slightly over 1 month in 2015. Though it had really high growth rate."
   ]
  },
  {
   "cell_type": "markdown",
   "metadata": {},
   "source": [
    "![alt text](image_predictions\\retweet_per_month.png)"
   ]
  },
  {
   "cell_type": "markdown",
   "metadata": {},
   "source": [
    "So, among all months 2015-12 and 2017-02 had the highest retweet counts"
   ]
  },
  {
   "cell_type": "markdown",
   "metadata": {},
   "source": [
    "### What is the time frame of favorits, i.e. which year the most of them were created? How many  favorits were received per month?"
   ]
  },
  {
   "cell_type": "markdown",
   "metadata": {},
   "source": [
    "Same interest was in getting the info about the highest cumulative favorite count"
   ]
  },
  {
   "cell_type": "markdown",
   "metadata": {},
   "source": [
    "![alt text](image_predictions\\favorite_per_year.png)"
   ]
  },
  {
   "cell_type": "markdown",
   "metadata": {},
   "source": [
    "And it seems that 2017 had ultimate favorite count of **more then 0.8*10<sup>7</sup>**"
   ]
  },
  {
   "cell_type": "markdown",
   "metadata": {},
   "source": [
    "![alt text](image_predictions\\favorite_per_month.png)"
   ]
  },
  {
   "cell_type": "markdown",
   "metadata": {},
   "source": [
    "The highest favorite counts were received in 2015-12 and 2017-07"
   ]
  },
  {
   "cell_type": "markdown",
   "metadata": {},
   "source": [
    "### Conclusion"
   ]
  },
  {
   "cell_type": "markdown",
   "metadata": {},
   "source": [
    "Although this assessment tries to get into the core of the data set there are still some relationships that stay ambiguous. More EDA is needed on this data set. We still need to identify what caused the peaks of favorites counts in 2015-12 and 2017-07, and also retweet counts to be ever high in 2015-12 and 2017-02. More elaboration needded on identifying whether the image identification was made correctly, as well as potential error caused by the lack of data in dog_stage and name fields needs to be figured out. All in all this dataset is great and interesting pool to play in!"
   ]
  },
  {
   "cell_type": "markdown",
   "metadata": {},
   "source": [
    "- Created by Volodymyr Laukhin"
   ]
  },
  {
   "cell_type": "code",
   "execution_count": null,
   "metadata": {},
   "outputs": [],
   "source": []
  }
 ],
 "metadata": {
  "kernelspec": {
   "display_name": "Python 3",
   "language": "python",
   "name": "python3"
  },
  "language_info": {
   "codemirror_mode": {
    "name": "ipython",
    "version": 3
   },
   "file_extension": ".py",
   "mimetype": "text/x-python",
   "name": "python",
   "nbconvert_exporter": "python",
   "pygments_lexer": "ipython3",
   "version": "3.6.3"
  }
 },
 "nbformat": 4,
 "nbformat_minor": 2
}
